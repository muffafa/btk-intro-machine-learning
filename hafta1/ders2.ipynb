{
 "cells": [
  {
   "cell_type": "code",
   "execution_count": 163,
   "metadata": {},
   "outputs": [],
   "source": [
    "import numpy as np"
   ]
  },
  {
   "cell_type": "code",
   "execution_count": 164,
   "metadata": {},
   "outputs": [
    {
     "data": {
      "text/plain": [
       "array([[ 1,  2],\n",
       "       [ 3,  4],\n",
       "       [ 5,  6],\n",
       "       [ 7,  8],\n",
       "       [ 9, 10]])"
      ]
     },
     "execution_count": 164,
     "metadata": {},
     "output_type": "execute_result"
    }
   ],
   "source": [
    "np_liste = np.array(list(range(1,11)))\n",
    "np_2d = np_liste.reshape(5,2)\n",
    "np_2d"
   ]
  },
  {
   "cell_type": "code",
   "execution_count": 165,
   "metadata": {},
   "outputs": [
    {
     "data": {
      "text/plain": [
       "array([1, 2])"
      ]
     },
     "execution_count": 165,
     "metadata": {},
     "output_type": "execute_result"
    }
   ],
   "source": [
    "np_2d[0]"
   ]
  },
  {
   "cell_type": "code",
   "execution_count": 166,
   "metadata": {},
   "outputs": [
    {
     "data": {
      "text/plain": [
       "array([ 5, 10, 15, 20])"
      ]
     },
     "execution_count": 166,
     "metadata": {},
     "output_type": "execute_result"
    }
   ],
   "source": [
    "np_5 = np.arange(5,25,5)\n",
    "np_5"
   ]
  },
  {
   "cell_type": "code",
   "execution_count": 167,
   "metadata": {},
   "outputs": [
    {
     "data": {
      "text/plain": [
       "array([[1., 1., 1., 1., 1., 1., 1., 1., 1., 1.],\n",
       "       [1., 1., 1., 1., 1., 1., 1., 1., 1., 1.],\n",
       "       [1., 1., 1., 1., 1., 1., 1., 1., 1., 1.],\n",
       "       [1., 1., 1., 1., 1., 1., 1., 1., 1., 1.],\n",
       "       [1., 1., 1., 1., 1., 1., 1., 1., 1., 1.],\n",
       "       [1., 1., 1., 1., 1., 1., 1., 1., 1., 1.],\n",
       "       [1., 1., 1., 1., 1., 1., 1., 1., 1., 1.],\n",
       "       [1., 1., 1., 1., 1., 1., 1., 1., 1., 1.],\n",
       "       [1., 1., 1., 1., 1., 1., 1., 1., 1., 1.],\n",
       "       [1., 1., 1., 1., 1., 1., 1., 1., 1., 1.]])"
      ]
     },
     "execution_count": 167,
     "metadata": {},
     "output_type": "execute_result"
    }
   ],
   "source": [
    "np1 = np.ones((10,10))\n",
    "np1"
   ]
  },
  {
   "cell_type": "code",
   "execution_count": 168,
   "metadata": {},
   "outputs": [
    {
     "data": {
      "text/plain": [
       "array([[0., 0.],\n",
       "       [0., 0.],\n",
       "       [0., 0.]])"
      ]
     },
     "execution_count": 168,
     "metadata": {},
     "output_type": "execute_result"
    }
   ],
   "source": [
    "np.zeros((3,2))"
   ]
  },
  {
   "cell_type": "code",
   "execution_count": 169,
   "metadata": {},
   "outputs": [
    {
     "data": {
      "text/plain": [
       "array([[1., 0., 0.],\n",
       "       [0., 1., 0.],\n",
       "       [0., 0., 1.]])"
      ]
     },
     "execution_count": 169,
     "metadata": {},
     "output_type": "execute_result"
    }
   ],
   "source": [
    "eyes = np.eye(3,3)\n",
    "eyes"
   ]
  },
  {
   "cell_type": "code",
   "execution_count": 170,
   "metadata": {},
   "outputs": [
    {
     "name": "stdout",
     "output_type": "stream",
     "text": [
      "[ 9 40 28 ... 20 94 78]\n"
     ]
    }
   ],
   "source": [
    "liste = np.random.randint(1,101,(10000))\n",
    "print(liste)"
   ]
  },
  {
   "cell_type": "code",
   "execution_count": 171,
   "metadata": {},
   "outputs": [
    {
     "data": {
      "text/plain": [
       "90"
      ]
     },
     "execution_count": 171,
     "metadata": {},
     "output_type": "execute_result"
    }
   ],
   "source": [
    "np.count_nonzero(liste == 1)"
   ]
  },
  {
   "cell_type": "code",
   "execution_count": 172,
   "metadata": {},
   "outputs": [
    {
     "data": {
      "text/plain": [
       "array(['EMİNE ÇETİN', 'Gülsüm', 'Rıza Efe Dönmez ', 'Alihan Ayverdi',\n",
       "       'Melike Nur ÇOTAK'], dtype='<U22')"
      ]
     },
     "execution_count": 172,
     "metadata": {},
     "output_type": "execute_result"
    }
   ],
   "source": [
    "names_list = [\"Alihan Ayverdi\",\n",
    "\"Ahmet KOÇ\",\n",
    "\"ÖMER FARUK KÖSE\",\n",
    "\"Merve DEMİR\",\n",
    "\"Rıza Efe Dönmez \",\n",
    "\"Nergis KAHVECİOĞLU\",\n",
    "\"EMİNE ÇETİN\",\n",
    "\"Safiye Esmanur AYDAR\",\n",
    "\"Yasmın Zhulfayeva\",\n",
    "\"Ali Burkay KÜÇÜKAKCA\",\n",
    "\"Sıla SARAÇ\",\n",
    "\"Melike Nur ÇOTAK\",\n",
    "\"Sabahattin MAKİNE\",\n",
    "\"Gülsüm\",\n",
    "\"Muhammed Mustafa SAVAR\"]\n",
    "\n",
    "\n",
    "np.random.choice(names_list, replace=False, size=5)"
   ]
  },
  {
   "cell_type": "code",
   "execution_count": 173,
   "metadata": {},
   "outputs": [
    {
     "data": {
      "text/plain": [
       "array([78, 94, 20, ..., 28, 40,  9])"
      ]
     },
     "execution_count": 173,
     "metadata": {},
     "output_type": "execute_result"
    }
   ],
   "source": [
    "np.flipud(liste) # ters cevirme"
   ]
  },
  {
   "cell_type": "code",
   "execution_count": 174,
   "metadata": {},
   "outputs": [
    {
     "data": {
      "text/plain": [
       "np.int64(100)"
      ]
     },
     "execution_count": 174,
     "metadata": {},
     "output_type": "execute_result"
    }
   ],
   "source": [
    "np.max(liste) #maximum"
   ]
  },
  {
   "cell_type": "code",
   "execution_count": 175,
   "metadata": {},
   "outputs": [
    {
     "data": {
      "text/plain": [
       "np.int64(1)"
      ]
     },
     "execution_count": 175,
     "metadata": {},
     "output_type": "execute_result"
    }
   ],
   "source": [
    "np.min(liste) #minumum"
   ]
  },
  {
   "cell_type": "code",
   "execution_count": 176,
   "metadata": {},
   "outputs": [
    {
     "data": {
      "text/plain": [
       "np.float64(50.7187)"
      ]
     },
     "execution_count": 176,
     "metadata": {},
     "output_type": "execute_result"
    }
   ],
   "source": [
    "np.mean(liste) #ortalama"
   ]
  },
  {
   "cell_type": "code",
   "execution_count": 177,
   "metadata": {},
   "outputs": [
    {
     "data": {
      "text/plain": [
       "np.float64(29.04005114165607)"
      ]
     },
     "execution_count": 177,
     "metadata": {},
     "output_type": "execute_result"
    }
   ],
   "source": [
    "np.std(liste) #standart sapma"
   ]
  },
  {
   "cell_type": "code",
   "execution_count": 178,
   "metadata": {},
   "outputs": [
    {
     "data": {
      "text/plain": [
       "10000"
      ]
     },
     "execution_count": 178,
     "metadata": {},
     "output_type": "execute_result"
    }
   ],
   "source": [
    "len(liste) #eleman sayısı"
   ]
  },
  {
   "cell_type": "code",
   "execution_count": 179,
   "metadata": {},
   "outputs": [
    {
     "data": {
      "text/plain": [
       "array([95, 61, 64, 84, 57, 71, 91, 97, 60, 58, 97, 69, 73, 96, 91, 67, 53,\n",
       "       93, 72, 87])"
      ]
     },
     "execution_count": 179,
     "metadata": {},
     "output_type": "execute_result"
    }
   ],
   "source": [
    "notlar = np.random.randint(50, 101, 20)\n",
    "notlar"
   ]
  },
  {
   "cell_type": "code",
   "execution_count": 180,
   "metadata": {},
   "outputs": [],
   "source": [
    "np.savetxt(\"notlar.txt\", notlar) #bilimsel gösterim"
   ]
  },
  {
   "cell_type": "code",
   "execution_count": 181,
   "metadata": {},
   "outputs": [],
   "source": [
    "#bilimsel olmayan gösterim\n",
    "np.savetxt(\"notlar.txt\", notlar, fmt=\"%d\")"
   ]
  },
  {
   "cell_type": "code",
   "execution_count": 182,
   "metadata": {},
   "outputs": [
    {
     "name": "stdout",
     "output_type": "stream",
     "text": [
      "datatypes.jpeg      exercise.ipynb      notlar.txt\n",
      "ders1.ipynb         kısayollar.jpeg     notlar2.csv\n",
      "ders2.ipynb         notlar.csv          numpy_array_t.jpeg\n"
     ]
    }
   ],
   "source": [
    "ls"
   ]
  },
  {
   "cell_type": "code",
   "execution_count": 183,
   "metadata": {},
   "outputs": [],
   "source": [
    "notlar = np.loadtxt(\"notlar.txt\")"
   ]
  },
  {
   "cell_type": "code",
   "execution_count": 184,
   "metadata": {},
   "outputs": [
    {
     "data": {
      "text/plain": [
       "array([95., 61., 64., 84., 57., 71., 91., 97., 60., 58., 97., 69., 73.,\n",
       "       96., 91., 67., 53., 93., 72., 87.])"
      ]
     },
     "execution_count": 184,
     "metadata": {},
     "output_type": "execute_result"
    }
   ],
   "source": [
    "notlar"
   ]
  },
  {
   "cell_type": "code",
   "execution_count": 185,
   "metadata": {},
   "outputs": [
    {
     "data": {
      "text/plain": [
       "array([53., 57., 58., 60., 61., 64., 67., 69., 71., 72., 73., 84., 87.,\n",
       "       91., 91., 93., 95., 96., 97., 97.])"
      ]
     },
     "execution_count": 185,
     "metadata": {},
     "output_type": "execute_result"
    }
   ],
   "source": [
    "np.sort(notlar)"
   ]
  },
  {
   "cell_type": "code",
   "execution_count": 186,
   "metadata": {},
   "outputs": [
    {
     "data": {
      "text/plain": [
       "array([97., 97., 96., 95., 93., 91., 91., 87., 84., 73., 72., 71., 69.,\n",
       "       67., 64., 61., 60., 58., 57., 53.])"
      ]
     },
     "execution_count": 186,
     "metadata": {},
     "output_type": "execute_result"
    }
   ],
   "source": [
    "#reverse sort\n",
    "np.sort(notlar)[::-1]"
   ]
  },
  {
   "cell_type": "code",
   "execution_count": 187,
   "metadata": {},
   "outputs": [
    {
     "data": {
      "text/plain": [
       "(np.float64(97.0),\n",
       " np.float64(53.0),\n",
       " np.float64(15.12150786132124),\n",
       " np.float64(76.8))"
      ]
     },
     "execution_count": 187,
     "metadata": {},
     "output_type": "execute_result"
    }
   ],
   "source": [
    "np.max(notlar), np.min(notlar), np.std(notlar), np.mean(notlar)"
   ]
  },
  {
   "cell_type": "code",
   "execution_count": 188,
   "metadata": {},
   "outputs": [],
   "source": [
    "sehirler = np.array([\"Malatya\", \"Kahramanmaraş\", \"Antalya\", \"Ankara\", \"Istanbul\", \"Bursa\", \"Kütahya\", \"Malatya\"])"
   ]
  },
  {
   "cell_type": "code",
   "execution_count": 189,
   "metadata": {},
   "outputs": [
    {
     "data": {
      "text/plain": [
       "array(['Ankara', 'Antalya', 'Bursa', 'Istanbul', 'Kahramanmaraş',\n",
       "       'Kütahya', 'Malatya'], dtype='<U13')"
      ]
     },
     "execution_count": 189,
     "metadata": {},
     "output_type": "execute_result"
    }
   ],
   "source": [
    "np.unique(sehirler)"
   ]
  },
  {
   "cell_type": "code",
   "execution_count": 190,
   "metadata": {},
   "outputs": [
    {
     "data": {
      "text/plain": [
       "{np.str_('Ankara'): np.int64(1),\n",
       " np.str_('Antalya'): np.int64(1),\n",
       " np.str_('Bursa'): np.int64(1),\n",
       " np.str_('Istanbul'): np.int64(1),\n",
       " np.str_('Kahramanmaraş'): np.int64(1),\n",
       " np.str_('Kütahya'): np.int64(1),\n",
       " np.str_('Malatya'): np.int64(2)}"
      ]
     },
     "execution_count": 190,
     "metadata": {},
     "output_type": "execute_result"
    }
   ],
   "source": [
    "unuqie, counts = np.unique(sehirler, return_counts=True)\n",
    "sehirler_sozluk = dict(zip(unuqie, counts))\n",
    "sehirler_sozluk"
   ]
  },
  {
   "cell_type": "code",
   "execution_count": 191,
   "metadata": {},
   "outputs": [
    {
     "data": {
      "text/plain": [
       "np.int64(2)"
      ]
     },
     "execution_count": 191,
     "metadata": {},
     "output_type": "execute_result"
    }
   ],
   "source": [
    "sehirler_sozluk[\"Malatya\"]"
   ]
  },
  {
   "cell_type": "code",
   "execution_count": 192,
   "metadata": {},
   "outputs": [
    {
     "name": "stdout",
     "output_type": "stream",
     "text": [
      "2\n"
     ]
    }
   ],
   "source": [
    "sehir = \"\"\n",
    "while True:\n",
    "    sehir = input(\"Bir sehir giriniz: \")\n",
    "    sehir = sehir.capitalize() \n",
    "\n",
    "    if sehir not in sehirler_sozluk.keys():\n",
    "       print(\"Sehir bulunamadı\")\n",
    "    else:\n",
    "        print(sehirler_sozluk[sehir]) \n",
    "        break"
   ]
  },
  {
   "cell_type": "code",
   "execution_count": 193,
   "metadata": {},
   "outputs": [
    {
     "name": "stdout",
     "output_type": "stream",
     "text": [
      "[['Ankara' '1']\n",
      " ['Antalya' '1']\n",
      " ['Bursa' '1']\n",
      " ['Istanbul' '1']\n",
      " ['Kahramanmaraş' '1']\n",
      " ['Kütahya' '1']\n",
      " ['Malatya' '2']]\n"
     ]
    }
   ],
   "source": [
    "frekans = np.asarray((unuqie, counts)).T\n",
    "print(frekans)"
   ]
  },
  {
   "cell_type": "code",
   "execution_count": 194,
   "metadata": {},
   "outputs": [
    {
     "data": {
      "text/plain": [
       "array([ 57,  77,  83,  89,  98,  63, 100,  75,  97,  84,  56,  82,  52,\n",
       "        68,  71,  57,  97,  52,  74,  84])"
      ]
     },
     "execution_count": 194,
     "metadata": {},
     "output_type": "execute_result"
    }
   ],
   "source": [
    "notlar = np.random.randint(50, 101, 20)\n",
    "notlar"
   ]
  },
  {
   "cell_type": "code",
   "execution_count": 195,
   "metadata": {},
   "outputs": [],
   "source": [
    "notlar = np.random.randint(50, 101, 20)\n",
    "notlar.tofile(\"notlar.csv\", sep=\",\", format=\"%d\")"
   ]
  },
  {
   "cell_type": "code",
   "execution_count": 196,
   "metadata": {},
   "outputs": [],
   "source": [
    "notlar2 = notlar.reshape(20,1)"
   ]
  },
  {
   "cell_type": "code",
   "execution_count": 197,
   "metadata": {},
   "outputs": [],
   "source": [
    "notlar2.tofile(\"notlar2.csv\", sep=\",\", format=\"%d\")"
   ]
  },
  {
   "cell_type": "code",
   "execution_count": 198,
   "metadata": {},
   "outputs": [
    {
     "name": "stdout",
     "output_type": "stream",
     "text": [
      "Requirement already satisfied: pandas in /Users/muffafa/.local/share/virtualenvs/btk-intro-machine-learning-QrpuCueY/lib/python3.12/site-packages (2.2.3)\n",
      "Requirement already satisfied: numpy>=1.26.0 in /Users/muffafa/.local/share/virtualenvs/btk-intro-machine-learning-QrpuCueY/lib/python3.12/site-packages (from pandas) (2.1.2)\n",
      "Requirement already satisfied: python-dateutil>=2.8.2 in /Users/muffafa/.local/share/virtualenvs/btk-intro-machine-learning-QrpuCueY/lib/python3.12/site-packages (from pandas) (2.9.0.post0)\n",
      "Requirement already satisfied: pytz>=2020.1 in /Users/muffafa/.local/share/virtualenvs/btk-intro-machine-learning-QrpuCueY/lib/python3.12/site-packages (from pandas) (2024.2)\n",
      "Requirement already satisfied: tzdata>=2022.7 in /Users/muffafa/.local/share/virtualenvs/btk-intro-machine-learning-QrpuCueY/lib/python3.12/site-packages (from pandas) (2024.2)\n",
      "Requirement already satisfied: six>=1.5 in /Users/muffafa/.local/share/virtualenvs/btk-intro-machine-learning-QrpuCueY/lib/python3.12/site-packages (from python-dateutil>=2.8.2->pandas) (1.16.0)\n",
      "Note: you may need to restart the kernel to use updated packages.\n"
     ]
    }
   ],
   "source": [
    "pip install pandas"
   ]
  },
  {
   "cell_type": "code",
   "execution_count": 199,
   "metadata": {},
   "outputs": [],
   "source": [
    "import pandas as pd"
   ]
  },
  {
   "cell_type": "code",
   "execution_count": 200,
   "metadata": {},
   "outputs": [
    {
     "data": {
      "text/html": [
       "<div>\n",
       "<style scoped>\n",
       "    .dataframe tbody tr th:only-of-type {\n",
       "        vertical-align: middle;\n",
       "    }\n",
       "\n",
       "    .dataframe tbody tr th {\n",
       "        vertical-align: top;\n",
       "    }\n",
       "\n",
       "    .dataframe thead th {\n",
       "        text-align: right;\n",
       "    }\n",
       "</style>\n",
       "<table border=\"1\" class=\"dataframe\">\n",
       "  <thead>\n",
       "    <tr style=\"text-align: right;\">\n",
       "      <th></th>\n",
       "      <th>70</th>\n",
       "      <th>65</th>\n",
       "      <th>84</th>\n",
       "      <th>72</th>\n",
       "      <th>80</th>\n",
       "      <th>73</th>\n",
       "      <th>98</th>\n",
       "      <th>79</th>\n",
       "      <th>59</th>\n",
       "      <th>86</th>\n",
       "      <th>62</th>\n",
       "      <th>88</th>\n",
       "      <th>53</th>\n",
       "      <th>86.1</th>\n",
       "      <th>73.1</th>\n",
       "      <th>79.1</th>\n",
       "      <th>83</th>\n",
       "      <th>93</th>\n",
       "      <th>56</th>\n",
       "      <th>61</th>\n",
       "    </tr>\n",
       "  </thead>\n",
       "  <tbody>\n",
       "  </tbody>\n",
       "</table>\n",
       "</div>"
      ],
      "text/plain": [
       "Empty DataFrame\n",
       "Columns: [70, 65, 84, 72, 80, 73, 98, 79, 59, 86, 62, 88, 53, 86.1, 73.1, 79.1, 83, 93, 56, 61]\n",
       "Index: []"
      ]
     },
     "execution_count": 200,
     "metadata": {},
     "output_type": "execute_result"
    }
   ],
   "source": [
    "#import with pandas\n",
    "df = pd.read_csv(\"notlar.csv\")\n",
    "df"
   ]
  },
  {
   "cell_type": "code",
   "execution_count": null,
   "metadata": {},
   "outputs": [],
   "source": []
  }
 ],
 "metadata": {
  "kernelspec": {
   "display_name": "btk-intro-machine-learning-QrpuCueY",
   "language": "python",
   "name": "python3"
  },
  "language_info": {
   "codemirror_mode": {
    "name": "ipython",
    "version": 3
   },
   "file_extension": ".py",
   "mimetype": "text/x-python",
   "name": "python",
   "nbconvert_exporter": "python",
   "pygments_lexer": "ipython3",
   "version": "3.12.7"
  }
 },
 "nbformat": 4,
 "nbformat_minor": 2
}
