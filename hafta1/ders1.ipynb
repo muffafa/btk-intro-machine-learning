{
 "cells": [
  {
   "cell_type": "markdown",
   "metadata": {},
   "source": [
    "# Ders 1\n",
    "\n",
    "## Jupyter Notebook"
   ]
  },
  {
   "cell_type": "code",
   "execution_count": 2,
   "metadata": {},
   "outputs": [
    {
     "name": "stdout",
     "output_type": "stream",
     "text": [
      "Hello World!\n"
     ]
    }
   ],
   "source": [
    "print(\"Hello World!\")"
   ]
  },
  {
   "cell_type": "markdown",
   "metadata": {},
   "source": [
    "![kısayollar.jpeg](./kısayollar.jpeg)"
   ]
  },
  {
   "cell_type": "markdown",
   "metadata": {},
   "source": [
    "Html de yazılabilir\n",
    "\n",
    "<b>bold</b> <br/>\n",
    "<i>italic</i>"
   ]
  },
  {
   "cell_type": "markdown",
   "metadata": {},
   "source": [
    "Latex yazılımı\n",
    "\n",
    "$$c=\\sqrt{a^2 + b^2}$$\n",
    "\n",
    "Latex integral \n",
    "\n",
    "$$\n",
    "f(x) = \\int_{-\\infty}^{\\infty} e^{-x^2} dx\n",
    "$$"
   ]
  },
  {
   "cell_type": "code",
   "execution_count": 4,
   "metadata": {},
   "outputs": [
    {
     "data": {
      "text/latex": [
       "$\\displaystyle F(k) = \\int_{-\\infty}^{\\infty} f(x) e^{2\\pi i k} dx$"
      ],
      "text/plain": [
       "<IPython.core.display.Math object>"
      ]
     },
     "metadata": {},
     "output_type": "display_data"
    }
   ],
   "source": [
    "# Modül ekleme\n",
    "\n",
    "from IPython.display import display, Math, Latex\n",
    "\n",
    "display(Math(r'F(k) = \\int_{-\\infty}^{\\infty} f(x) e^{2\\pi i k} dx'))"
   ]
  },
  {
   "cell_type": "code",
   "execution_count": 3,
   "metadata": {},
   "outputs": [
    {
     "name": "stdout",
     "output_type": "stream",
     "text": [
      "ders1.ipynb       kısayollar.jpeg\n"
     ]
    }
   ],
   "source": [
    "ls"
   ]
  },
  {
   "cell_type": "markdown",
   "metadata": {},
   "source": [
    "## kütüphane kurulumu"
   ]
  },
  {
   "cell_type": "code",
   "execution_count": 1,
   "metadata": {},
   "outputs": [
    {
     "name": "stdout",
     "output_type": "stream",
     "text": [
      "Requirement already satisfied: opencv-python in /Users/muffafa/.local/share/virtualenvs/btk-intro-machine-learning-QrpuCueY/lib/python3.12/site-packages (4.10.0.84)\n",
      "Requirement already satisfied: numpy>=1.21.2 in /Users/muffafa/.local/share/virtualenvs/btk-intro-machine-learning-QrpuCueY/lib/python3.12/site-packages (from opencv-python) (2.1.2)\n",
      "Note: you may need to restart the kernel to use updated packages.\n"
     ]
    }
   ],
   "source": [
    "pip install opencv-python"
   ]
  },
  {
   "cell_type": "code",
   "execution_count": 5,
   "metadata": {},
   "outputs": [
    {
     "name": "stdout",
     "output_type": "stream",
     "text": [
      "# str\n",
      "Merhaba\n",
      "\n",
      "# int\n",
      "123\n",
      "\n",
      "# float\n",
      "123.45\n",
      " \n",
      "# bool\n",
      "True\n",
      "\n",
      "# list\n",
      "[1, 2, 3]\n",
      "\n",
      "# tuple\n",
      "(1, 2, 3)\n",
      "\n",
      "# dict\n",
      "{'a': 1, 'b': 2}\n",
      "\n",
      "# set\n",
      "{1, 2, 3}\n",
      "\n",
      "# None\n",
      "None\n"
     ]
    }
   ],
   "source": [
    "#data types\n",
    "\n",
    "print (\"# str\", \"Merhaba\", \"\\n# int\", 123, \"\\n# float\", 123.45, \" \\n# bool\", True, \"\\n# list\", [1,2,3], \"\\n# tuple\", (1,2,3), \"\\n# dict\", {\"a\":1, \"b\":2}, \"\\n# set\", {1,2,3}, \"\\n# None\", None, sep=\"\\n\")"
   ]
  },
  {
   "cell_type": "code",
   "execution_count": 8,
   "metadata": {},
   "outputs": [
    {
     "name": "stdout",
     "output_type": "stream",
     "text": [
      "<class 'int'>\n"
     ]
    }
   ],
   "source": [
    "sayi = 5\n",
    "# show it is type with built in funcion\n",
    "print(type(sayi))"
   ]
  }
 ],
 "metadata": {
  "kernelspec": {
   "display_name": "btk-intro-machine-learning-QrpuCueY",
   "language": "python",
   "name": "python3"
  },
  "language_info": {
   "codemirror_mode": {
    "name": "ipython",
    "version": 3
   },
   "file_extension": ".py",
   "mimetype": "text/x-python",
   "name": "python",
   "nbconvert_exporter": "python",
   "pygments_lexer": "ipython3",
   "version": "3.12.7"
  }
 },
 "nbformat": 4,
 "nbformat_minor": 2
}
