{
 "cells": [
  {
   "cell_type": "markdown",
   "metadata": {},
   "source": [
    "# Ders 1\n",
    "\n",
    "## Jupyter Notebook"
   ]
  },
  {
   "cell_type": "code",
   "execution_count": 2,
   "metadata": {},
   "outputs": [
    {
     "name": "stdout",
     "output_type": "stream",
     "text": [
      "Hello World!\n"
     ]
    }
   ],
   "source": [
    "print(\"Hello World!\")"
   ]
  },
  {
   "cell_type": "markdown",
   "metadata": {},
   "source": [
    "![kısayollar.jpeg](./kısayollar.jpeg)"
   ]
  },
  {
   "cell_type": "markdown",
   "metadata": {},
   "source": [
    "Html de yazılabilir\n",
    "\n",
    "<b>bold</b> <br/>\n",
    "<i>italic</i>"
   ]
  },
  {
   "cell_type": "markdown",
   "metadata": {},
   "source": [
    "Latex yazılımı\n",
    "\n",
    "$$c=\\sqrt{a^2 + b^2}$$\n",
    "\n",
    "Latex integral \n",
    "\n",
    "$$\n",
    "f(x) = \\int_{-\\infty}^{\\infty} e^{-x^2} dx\n",
    "$$"
   ]
  },
  {
   "cell_type": "code",
   "execution_count": 4,
   "metadata": {},
   "outputs": [
    {
     "data": {
      "text/latex": [
       "$\\displaystyle F(k) = \\int_{-\\infty}^{\\infty} f(x) e^{2\\pi i k} dx$"
      ],
      "text/plain": [
       "<IPython.core.display.Math object>"
      ]
     },
     "metadata": {},
     "output_type": "display_data"
    }
   ],
   "source": [
    "# Modül ekleme\n",
    "\n",
    "from IPython.display import display, Math, Latex\n",
    "\n",
    "display(Math(r'F(k) = \\int_{-\\infty}^{\\infty} f(x) e^{2\\pi i k} dx'))"
   ]
  },
  {
   "cell_type": "code",
   "execution_count": 3,
   "metadata": {},
   "outputs": [
    {
     "name": "stdout",
     "output_type": "stream",
     "text": [
      "ders1.ipynb       kısayollar.jpeg\n"
     ]
    }
   ],
   "source": [
    "ls"
   ]
  },
  {
   "cell_type": "markdown",
   "metadata": {},
   "source": [
    "## kütüphane kurulumu"
   ]
  },
  {
   "cell_type": "code",
   "execution_count": 1,
   "metadata": {},
   "outputs": [
    {
     "name": "stdout",
     "output_type": "stream",
     "text": [
      "Requirement already satisfied: opencv-python in /Users/muffafa/.local/share/virtualenvs/btk-intro-machine-learning-QrpuCueY/lib/python3.12/site-packages (4.10.0.84)\n",
      "Requirement already satisfied: numpy>=1.21.2 in /Users/muffafa/.local/share/virtualenvs/btk-intro-machine-learning-QrpuCueY/lib/python3.12/site-packages (from opencv-python) (2.1.2)\n",
      "Note: you may need to restart the kernel to use updated packages.\n"
     ]
    }
   ],
   "source": [
    "pip install opencv-python"
   ]
  },
  {
   "cell_type": "code",
   "execution_count": 5,
   "metadata": {},
   "outputs": [
    {
     "name": "stdout",
     "output_type": "stream",
     "text": [
      "# str\n",
      "Merhaba\n",
      "\n",
      "# int\n",
      "123\n",
      "\n",
      "# float\n",
      "123.45\n",
      " \n",
      "# bool\n",
      "True\n",
      "\n",
      "# list\n",
      "[1, 2, 3]\n",
      "\n",
      "# tuple\n",
      "(1, 2, 3)\n",
      "\n",
      "# dict\n",
      "{'a': 1, 'b': 2}\n",
      "\n",
      "# set\n",
      "{1, 2, 3}\n",
      "\n",
      "# None\n",
      "None\n"
     ]
    }
   ],
   "source": [
    "#data types\n",
    "\n",
    "print (\"# str\", \"Merhaba\", \"\\n# int\", 123, \"\\n# float\", 123.45, \" \\n# bool\", True, \"\\n# list\", [1,2,3], \"\\n# tuple\", (1,2,3), \"\\n# dict\", {\"a\":1, \"b\":2}, \"\\n# set\", {1,2,3}, \"\\n# None\", None, sep=\"\\n\")"
   ]
  },
  {
   "cell_type": "code",
   "execution_count": 8,
   "metadata": {},
   "outputs": [
    {
     "name": "stdout",
     "output_type": "stream",
     "text": [
      "<class 'int'>\n"
     ]
    }
   ],
   "source": [
    "sayi = 5\n",
    "# show it is type with built in funcion\n",
    "print(type(sayi))"
   ]
  },
  {
   "cell_type": "code",
   "execution_count": 11,
   "metadata": {},
   "outputs": [
    {
     "name": "stdout",
     "output_type": "stream",
     "text": [
      "[1, 2, 3, 4, 5, 6, 7, 8, 9, 10]\n",
      "1\n",
      "[1, 2, 3]\n",
      "<class 'list'>\n",
      "[[1, 2, 3], [4, 5, 6]]\n",
      "4\n"
     ]
    }
   ],
   "source": [
    "# list \n",
    "\n",
    "# basic list\n",
    "\n",
    "l = [1, 2, 3, 4, 5, 6, 7, 8, 9, 10]\n",
    "print(l)\n",
    "\n",
    "# print a element of list\n",
    "print(l[0])\n",
    "\n",
    "# print a part of list\n",
    "print(l[0:3])\n",
    "\n",
    "# type() function on list\n",
    "print(type(l))\n",
    "\n",
    "# list with two list\n",
    "l1 = [1, 2, 3]\n",
    "l2 = [4, 5, 6]\n",
    "l3 = [l1, l2]\n",
    "print(l3)\n",
    "\n",
    "# element of two dimensional list\n",
    "print(l3[1][0])"
   ]
  },
  {
   "cell_type": "code",
   "execution_count": 17,
   "metadata": {},
   "outputs": [
    {
     "name": "stdout",
     "output_type": "stream",
     "text": [
      "(2, 4, 6, 8, 10, 12, 14, 16, 18, 20)\n",
      "2\n",
      "(2, 4, 6)\n",
      "<class 'tuple'>\n",
      "10\n",
      "20\n",
      "1\n"
     ]
    }
   ],
   "source": [
    "# tuple\n",
    "\n",
    "t = (2, 4, 6, 8, 10, 12, 14, 16, 18, 20)\n",
    "print(t)\n",
    "\n",
    "# print a element of tuple\n",
    "print(t[0])\n",
    "\n",
    "# print a part of tuple\n",
    "print(t[0:3])\n",
    "\n",
    "# type() function on tuple\n",
    "print(type(t))\n",
    "\n",
    "# len() function on tuple\n",
    "print(len(t))\n",
    "\n",
    "# indexing on tuple\n",
    "print(t[-1])\n",
    "\n",
    "# with one element tuple\n",
    "t1 = (1,)\n",
    "print(t1[0])\n"
   ]
  },
  {
   "cell_type": "code",
   "execution_count": 12,
   "metadata": {},
   "outputs": [
    {
     "name": "stdout",
     "output_type": "stream",
     "text": [
      "['False', 'None', 'True', 'and', 'as', 'assert', 'async', 'await', 'break', 'class', 'continue', 'def', 'del', 'elif', 'else', 'except', 'finally', 'for', 'from', 'global', 'if', 'import', 'in', 'is', 'lambda', 'nonlocal', 'not', 'or', 'pass', 'raise', 'return', 'try', 'while', 'with', 'yield']\n"
     ]
    }
   ],
   "source": [
    "import keyword\n",
    "\n",
    "print(keyword.kwlist)"
   ]
  }
 ],
 "metadata": {
  "kernelspec": {
   "display_name": "btk-intro-machine-learning-QrpuCueY",
   "language": "python",
   "name": "python3"
  },
  "language_info": {
   "codemirror_mode": {
    "name": "ipython",
    "version": 3
   },
   "file_extension": ".py",
   "mimetype": "text/x-python",
   "name": "python",
   "nbconvert_exporter": "python",
   "pygments_lexer": "ipython3",
   "version": "3.12.7"
  }
 },
 "nbformat": 4,
 "nbformat_minor": 2
}
