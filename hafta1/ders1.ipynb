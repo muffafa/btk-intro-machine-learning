{
 "cells": [
  {
   "cell_type": "markdown",
   "metadata": {},
   "source": [
    "# Ders 1\n",
    "\n",
    "## Jupyter Notebook"
   ]
  },
  {
   "cell_type": "code",
   "execution_count": 5,
   "metadata": {},
   "outputs": [
    {
     "name": "stdout",
     "output_type": "stream",
     "text": [
      "Hello World!\n"
     ]
    }
   ],
   "source": [
    "print(\"Hello World!\")"
   ]
  },
  {
   "cell_type": "markdown",
   "metadata": {},
   "source": [
    "![kısayollar.jpeg](./kısayollar.jpeg)"
   ]
  },
  {
   "cell_type": "markdown",
   "metadata": {},
   "source": [
    "Html de yazılabilir\n",
    "\n",
    "<b>bold</b> <br/>\n",
    "<i>italic</i>"
   ]
  },
  {
   "cell_type": "markdown",
   "metadata": {},
   "source": [
    "Latex yazılımı\n",
    "\n",
    "$$c=\\sqrt{a^2 + b^2}$$\n",
    "\n",
    "Latex integral \n",
    "\n",
    "$$\n",
    "f(x) = \\int_{-\\infty}^{\\infty} e^{-x^2} dx\n",
    "$$"
   ]
  },
  {
   "cell_type": "code",
   "execution_count": 6,
   "metadata": {},
   "outputs": [
    {
     "data": {
      "text/latex": [
       "$\\displaystyle F(k) = \\int_{-\\infty}^{\\infty} f(x) e^{2\\pi i k} dx$"
      ],
      "text/plain": [
       "<IPython.core.display.Math object>"
      ]
     },
     "metadata": {},
     "output_type": "display_data"
    }
   ],
   "source": [
    "# Modül ekleme\n",
    "\n",
    "from IPython.display import display, Math, Latex\n",
    "\n",
    "display(Math(r'F(k) = \\int_{-\\infty}^{\\infty} f(x) e^{2\\pi i k} dx'))"
   ]
  },
  {
   "cell_type": "code",
   "execution_count": 7,
   "metadata": {},
   "outputs": [
    {
     "name": "stdout",
     "output_type": "stream",
     "text": [
      "datatypes.jpeg      exercise.ipynb      numpy_array_t.jpeg\n",
      "ders1.ipynb         kısayollar.jpeg\n"
     ]
    }
   ],
   "source": [
    "ls"
   ]
  },
  {
   "cell_type": "markdown",
   "metadata": {},
   "source": [
    "## kütüphane kurulumu"
   ]
  },
  {
   "cell_type": "code",
   "execution_count": 8,
   "metadata": {},
   "outputs": [
    {
     "name": "stdout",
     "output_type": "stream",
     "text": [
      "Requirement already satisfied: opencv-python in /Users/muffafa/.local/share/virtualenvs/btk-intro-machine-learning-QrpuCueY/lib/python3.12/site-packages (4.10.0.84)\n",
      "Requirement already satisfied: numpy>=1.21.2 in /Users/muffafa/.local/share/virtualenvs/btk-intro-machine-learning-QrpuCueY/lib/python3.12/site-packages (from opencv-python) (2.1.2)\n",
      "Note: you may need to restart the kernel to use updated packages.\n"
     ]
    }
   ],
   "source": [
    "pip install opencv-python"
   ]
  },
  {
   "cell_type": "code",
   "execution_count": 9,
   "metadata": {},
   "outputs": [
    {
     "name": "stdout",
     "output_type": "stream",
     "text": [
      "# str\n",
      "Merhaba\n",
      "\n",
      "# int\n",
      "123\n",
      "\n",
      "# float\n",
      "123.45\n",
      " \n",
      "# bool\n",
      "True\n",
      "\n",
      "# list\n",
      "[1, 2, 3]\n",
      "\n",
      "# tuple\n",
      "(1, 2, 3)\n",
      "\n",
      "# dict\n",
      "{'a': 1, 'b': 2}\n",
      "\n",
      "# set\n",
      "{1, 2, 3}\n",
      "\n",
      "# None\n",
      "None\n"
     ]
    }
   ],
   "source": [
    "#data types\n",
    "\n",
    "print (\"# str\", \"Merhaba\", \"\\n# int\", 123, \"\\n# float\", 123.45, \" \\n# bool\", True, \"\\n# list\", [1,2,3], \"\\n# tuple\", (1,2,3), \"\\n# dict\", {\"a\":1, \"b\":2}, \"\\n# set\", {1,2,3}, \"\\n# None\", None, sep=\"\\n\")"
   ]
  },
  {
   "cell_type": "code",
   "execution_count": 10,
   "metadata": {},
   "outputs": [
    {
     "name": "stdout",
     "output_type": "stream",
     "text": [
      "<class 'int'>\n"
     ]
    }
   ],
   "source": [
    "sayi = 5\n",
    "# show it is type with built in funcion\n",
    "print(type(sayi))"
   ]
  },
  {
   "cell_type": "code",
   "execution_count": 11,
   "metadata": {},
   "outputs": [
    {
     "name": "stdout",
     "output_type": "stream",
     "text": [
      "[1, 2, 3, 4, 5, 6, 7, 8, 9, 10]\n",
      "1\n",
      "[1, 2, 3]\n",
      "<class 'list'>\n",
      "[[1, 2, 3], [4, 5, 6]]\n",
      "4\n"
     ]
    }
   ],
   "source": [
    "# list \n",
    "\n",
    "# basic list\n",
    "\n",
    "l = [1, 2, 3, 4, 5, 6, 7, 8, 9, 10]\n",
    "print(l)\n",
    "\n",
    "# print a element of list\n",
    "print(l[0])\n",
    "\n",
    "# print a part of list\n",
    "print(l[0:3])\n",
    "\n",
    "# type() function on list\n",
    "print(type(l))\n",
    "\n",
    "# list with two list\n",
    "l1 = [1, 2, 3]\n",
    "l2 = [4, 5, 6]\n",
    "l3 = [l1, l2]\n",
    "print(l3)\n",
    "\n",
    "# element of two dimensional list\n",
    "print(l3[1][0])"
   ]
  },
  {
   "cell_type": "code",
   "execution_count": 12,
   "metadata": {},
   "outputs": [
    {
     "name": "stdout",
     "output_type": "stream",
     "text": [
      "(2, 4, 6, 8, 10, 12, 14, 16, 18, 20)\n",
      "2\n",
      "(2, 4, 6)\n",
      "<class 'tuple'>\n",
      "10\n",
      "20\n",
      "1\n"
     ]
    }
   ],
   "source": [
    "# tuple\n",
    "\n",
    "t = (2, 4, 6, 8, 10, 12, 14, 16, 18, 20)\n",
    "print(t)\n",
    "\n",
    "# print a element of tuple\n",
    "print(t[0])\n",
    "\n",
    "# print a part of tuple\n",
    "print(t[0:3])\n",
    "\n",
    "# type() function on tuple\n",
    "print(type(t))\n",
    "\n",
    "# len() function on tuple\n",
    "print(len(t))\n",
    "\n",
    "# indexing on tuple\n",
    "print(t[-1])\n",
    "\n",
    "# with one element tuple\n",
    "t1 = (1,)\n",
    "print(t1[0])\n"
   ]
  },
  {
   "cell_type": "code",
   "execution_count": 13,
   "metadata": {},
   "outputs": [
    {
     "name": "stdout",
     "output_type": "stream",
     "text": [
      "['False', 'None', 'True', 'and', 'as', 'assert', 'async', 'await', 'break', 'class', 'continue', 'def', 'del', 'elif', 'else', 'except', 'finally', 'for', 'from', 'global', 'if', 'import', 'in', 'is', 'lambda', 'nonlocal', 'not', 'or', 'pass', 'raise', 'return', 'try', 'while', 'with', 'yield']\n"
     ]
    }
   ],
   "source": [
    "import keyword\n",
    "\n",
    "print(keyword.kwlist)"
   ]
  },
  {
   "cell_type": "markdown",
   "metadata": {},
   "source": [
    "![image.png](data:image/png;base64,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)"
   ]
  },
  {
   "cell_type": "code",
   "execution_count": 14,
   "metadata": {},
   "outputs": [
    {
     "name": "stdout",
     "output_type": "stream",
     "text": [
      "2.1.2\n"
     ]
    }
   ],
   "source": [
    "import numpy as np\n",
    "\n",
    "print(np.__version__)"
   ]
  },
  {
   "cell_type": "code",
   "execution_count": 15,
   "metadata": {},
   "outputs": [
    {
     "name": "stdout",
     "output_type": "stream",
     "text": [
      "Requirement already satisfied: numpy in /Users/muffafa/.local/share/virtualenvs/btk-intro-machine-learning-QrpuCueY/lib/python3.12/site-packages (2.1.2)\n",
      "Note: you may need to restart the kernel to use updated packages.\n"
     ]
    }
   ],
   "source": [
    "pip install --upgrade numpy"
   ]
  },
  {
   "cell_type": "code",
   "execution_count": 16,
   "metadata": {},
   "outputs": [
    {
     "data": {
      "text/plain": [
       "array([0, 1, 2, 3, 4, 5, 6, 7, 8, 9])"
      ]
     },
     "execution_count": 16,
     "metadata": {},
     "output_type": "execute_result"
    }
   ],
   "source": [
    "my_numbers = np.array(list(range(10)))\n",
    "my_numbers"
   ]
  },
  {
   "cell_type": "code",
   "execution_count": 17,
   "metadata": {},
   "outputs": [
    {
     "data": {
      "text/plain": [
       "dtype('int64')"
      ]
     },
     "execution_count": 17,
     "metadata": {},
     "output_type": "execute_result"
    }
   ],
   "source": [
    "my_numbers.dtype"
   ]
  },
  {
   "cell_type": "markdown",
   "metadata": {},
   "source": [
    "![gorsel](./datatypes.jpeg)"
   ]
  },
  {
   "cell_type": "code",
   "execution_count": 18,
   "metadata": {},
   "outputs": [
    {
     "data": {
      "text/plain": [
       "8"
      ]
     },
     "execution_count": 18,
     "metadata": {},
     "output_type": "execute_result"
    }
   ],
   "source": [
    "my_numbers.itemsize"
   ]
  },
  {
   "cell_type": "markdown",
   "metadata": {},
   "source": [
    "int 64 #8 bit integer "
   ]
  },
  {
   "cell_type": "code",
   "execution_count": 19,
   "metadata": {},
   "outputs": [
    {
     "data": {
      "text/plain": [
       "'0b1000000'"
      ]
     },
     "execution_count": 19,
     "metadata": {},
     "output_type": "execute_result"
    }
   ],
   "source": [
    "bin(64)"
   ]
  },
  {
   "cell_type": "code",
   "execution_count": 20,
   "metadata": {},
   "outputs": [],
   "source": [
    "renkler = np.array([\"kırmızı\", \"sarı\", \"mavi\"])"
   ]
  },
  {
   "cell_type": "code",
   "execution_count": 21,
   "metadata": {},
   "outputs": [
    {
     "data": {
      "text/plain": [
       "array(['kırmızı', 'sarı', 'mavi'], dtype='<U7')"
      ]
     },
     "execution_count": 21,
     "metadata": {},
     "output_type": "execute_result"
    }
   ],
   "source": [
    "renkler"
   ]
  },
  {
   "cell_type": "code",
   "execution_count": 22,
   "metadata": {},
   "outputs": [
    {
     "data": {
      "text/plain": [
       "28"
      ]
     },
     "execution_count": 22,
     "metadata": {},
     "output_type": "execute_result"
    }
   ],
   "source": [
    "renkler.itemsize"
   ]
  },
  {
   "cell_type": "markdown",
   "metadata": {},
   "source": [
    "Her bir karakteer 4 bit. Kırmızı en uzun string 7 karakter. Bu yüzden 7 x 4 =  28 bit\n",
    "\n",
    "https://docs.python.org/3/howto/unicode.html"
   ]
  },
  {
   "cell_type": "markdown",
   "metadata": {},
   "source": [
    "## Dizilerde boyut\n",
    "\n",
    "![](./numpy_array_t.jpeg)"
   ]
  },
  {
   "cell_type": "code",
   "execution_count": 23,
   "metadata": {},
   "outputs": [
    {
     "data": {
      "text/plain": [
       "array([ 1,  2,  3,  4,  5,  6,  7,  8,  9, 10])"
      ]
     },
     "execution_count": 23,
     "metadata": {},
     "output_type": "execute_result"
    }
   ],
   "source": [
    "sayi_listesi = [1, 2, 3, 4, 5, 6, 7, 8, 9, 10]\n",
    "np_listesi = np.array(sayi_listesi)\n",
    "np_listesi"
   ]
  },
  {
   "cell_type": "code",
   "execution_count": 24,
   "metadata": {},
   "outputs": [
    {
     "data": {
      "text/plain": [
       "2"
      ]
     },
     "execution_count": 24,
     "metadata": {},
     "output_type": "execute_result"
    }
   ],
   "source": [
    "row1 = [1, 2, 3]\n",
    "row2 = [4, 5, 6]\n",
    "row3 = [7, 8, 9]\n",
    "\n",
    "matrix = np.array([row1, row2, row3])\n",
    "\n",
    "matrix.ndim"
   ]
  },
  {
   "cell_type": "code",
   "execution_count": 25,
   "metadata": {},
   "outputs": [
    {
     "data": {
      "text/plain": [
       "array([1, 2, 3])"
      ]
     },
     "execution_count": 25,
     "metadata": {},
     "output_type": "execute_result"
    }
   ],
   "source": [
    "matrix[0]"
   ]
  },
  {
   "cell_type": "code",
   "execution_count": 26,
   "metadata": {},
   "outputs": [
    {
     "data": {
      "text/plain": [
       "(3, 3)"
      ]
     },
     "execution_count": 26,
     "metadata": {},
     "output_type": "execute_result"
    }
   ],
   "source": [
    "matrix.shape # şekli"
   ]
  },
  {
   "cell_type": "code",
   "execution_count": 27,
   "metadata": {},
   "outputs": [
    {
     "name": "stdout",
     "output_type": "stream",
     "text": [
      "[[1]\n",
      " [2]\n",
      " [3]\n",
      " [4]\n",
      " [5]\n",
      " [6]\n",
      " [7]\n",
      " [8]\n",
      " [9]]\n",
      "2\n"
     ]
    }
   ],
   "source": [
    "np_liste2 = matrix.reshape(9,1)\n",
    "print(np_liste2)\n",
    "print(np_liste2.ndim)"
   ]
  },
  {
   "cell_type": "code",
   "execution_count": 29,
   "metadata": {},
   "outputs": [
    {
     "name": "stdout",
     "output_type": "stream",
     "text": [
      "[ 1  2  3  4  5  6  7  8  9 10]\n"
     ]
    }
   ],
   "source": [
    "liste = list(range(1,11))\n",
    "np_liste = np.array(liste)\n",
    "print(np_liste)"
   ]
  },
  {
   "cell_type": "code",
   "execution_count": 30,
   "metadata": {},
   "outputs": [
    {
     "data": {
      "text/plain": [
       "1"
      ]
     },
     "execution_count": 30,
     "metadata": {},
     "output_type": "execute_result"
    }
   ],
   "source": [
    "np_liste.ndim"
   ]
  },
  {
   "cell_type": "code",
   "execution_count": 31,
   "metadata": {},
   "outputs": [
    {
     "data": {
      "text/plain": [
       "array([[ 1,  2],\n",
       "       [ 3,  4],\n",
       "       [ 5,  6],\n",
       "       [ 7,  8],\n",
       "       [ 9, 10]])"
      ]
     },
     "execution_count": 31,
     "metadata": {},
     "output_type": "execute_result"
    }
   ],
   "source": [
    "np_2d = np_liste.reshape(5,2)\n",
    "np_2d"
   ]
  }
 ],
 "metadata": {
  "kernelspec": {
   "display_name": "btk-intro-machine-learning-QrpuCueY",
   "language": "python",
   "name": "python3"
  },
  "language_info": {
   "codemirror_mode": {
    "name": "ipython",
    "version": 3
   },
   "file_extension": ".py",
   "mimetype": "text/x-python",
   "name": "python",
   "nbconvert_exporter": "python",
   "pygments_lexer": "ipython3",
   "version": "3.12.7"
  }
 },
 "nbformat": 4,
 "nbformat_minor": 2
}
